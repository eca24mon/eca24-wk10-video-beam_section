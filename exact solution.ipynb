{
 "cells": [
  {
   "cell_type": "code",
   "execution_count": 1,
   "id": "a2e49396-dc3b-4730-aa22-b38ca23857ca",
   "metadata": {},
   "outputs": [],
   "source": [
    "import numpy as np\n",
    "import scipy.integrate as si\n",
    "\n"
   ]
  },
  {
   "cell_type": "code",
   "execution_count": 2,
   "id": "5282ced6-ebc1-4ca1-8eb6-a20bc2d04f07",
   "metadata": {},
   "outputs": [],
   "source": [
    "w = np.array((50e-3, 7.5e-3, 90e-3))\n",
    "h = np.array((12e-3, 70e-3, 10e-3))\n",
    "\n"
   ]
  },
  {
   "cell_type": "code",
   "execution_count": 34,
   "id": "3c30dd63-65e1-4880-b0d0-73be0c678071",
   "metadata": {},
   "outputs": [
    {
     "data": {
      "text/plain": [
       "52.62962962962962"
      ]
     },
     "execution_count": 34,
     "metadata": {},
     "output_type": "execute_result"
    }
   ],
   "source": [
    " (a * y_c*1e9).sum() / (a * 1e6).sum()"
   ]
  },
  {
   "cell_type": "code",
   "execution_count": 3,
   "id": "dc936193-5008-4066-89d3-e667d9f4a82f",
   "metadata": {},
   "outputs": [
    {
     "data": {
      "text/plain": [
       "array([0.0006  , 0.000525, 0.0009  ])"
      ]
     },
     "execution_count": 3,
     "metadata": {},
     "output_type": "execute_result"
    }
   ],
   "source": [
    "a = w * h\n",
    "a\n",
    "\n"
   ]
  },
  {
   "cell_type": "code",
   "execution_count": 4,
   "id": "c21d7c27-824d-4355-894e-5a4eadf0081a",
   "metadata": {},
   "outputs": [
    {
     "data": {
      "text/plain": [
       "array([0.006, 0.047, 0.087])"
      ]
     },
     "execution_count": 4,
     "metadata": {},
     "output_type": "execute_result"
    }
   ],
   "source": [
    "h_hi = h.cumsum()\n",
    "h_lo = np.hstack((0, h_hi[:2]))\n",
    "y_c = (h_hi + h_lo) * 0.5\n",
    "y_c\n",
    "\n"
   ]
  },
  {
   "cell_type": "code",
   "execution_count": 31,
   "id": "9009251b-8f4c-4fb8-9875-de2bcec4989f",
   "metadata": {},
   "outputs": [
    {
     "data": {
      "text/plain": [
       "0.000106575"
      ]
     },
     "execution_count": 31,
     "metadata": {},
     "output_type": "execute_result"
    }
   ],
   "source": [
    "(a * y_c) .sum()"
   ]
  },
  {
   "cell_type": "code",
   "execution_count": 5,
   "id": "77674cd3-d55d-4dd7-ad34-466a6a318cb3",
   "metadata": {},
   "outputs": [
    {
     "data": {
      "text/plain": [
       "0.05262962962962963"
      ]
     },
     "execution_count": 5,
     "metadata": {},
     "output_type": "execute_result"
    }
   ],
   "source": [
    "y_cent = sum(a * y_c) / sum(a)\n",
    "y_cent\n",
    "\n"
   ]
  },
  {
   "cell_type": "code",
   "execution_count": 6,
   "id": "1161fa72-7973-4928-a527-7a13e30e1dcf",
   "metadata": {},
   "outputs": [
    {
     "data": {
      "text/plain": [
       "0.029370370370370373"
      ]
     },
     "execution_count": 6,
     "metadata": {},
     "output_type": "execute_result"
    }
   ],
   "source": [
    "h1_above_cent = h[1] + h[0] - y_cent\n",
    "h1_above_cent\n",
    "\n"
   ]
  },
  {
   "cell_type": "code",
   "execution_count": 7,
   "id": "775becdf-c81f-422e-9c46-218b8821d6d2",
   "metadata": {},
   "outputs": [
    {
     "data": {
      "text/plain": [
       "0.04062962962962963"
      ]
     },
     "execution_count": 7,
     "metadata": {},
     "output_type": "execute_result"
    }
   ],
   "source": [
    "h1_below_cent = y_cent - h[0]\n",
    "h1_below_cent\n",
    "\n"
   ]
  },
  {
   "cell_type": "code",
   "execution_count": 8,
   "id": "34d3ffaf-81c5-4c38-b946-340e78cb297b",
   "metadata": {},
   "outputs": [
    {
     "data": {
      "text/plain": [
       "True"
      ]
     },
     "execution_count": 8,
     "metadata": {},
     "output_type": "execute_result"
    }
   ],
   "source": [
    "np.isclose( h1_above_cent + h1_below_cent, h[1])"
   ]
  },
  {
   "cell_type": "markdown",
   "id": "f1b21b22-14e1-41c6-9e83-cc964d1b54c8",
   "metadata": {},
   "source": [
    "Moment of the area 0 about the neutral axis"
   ]
  },
  {
   "cell_type": "code",
   "execution_count": 36,
   "id": "b0eb3c11-944e-4e32-b58b-0ef12737eccf",
   "metadata": {},
   "outputs": [
    {
     "data": {
      "text/plain": [
       "2.797777777777778e-05"
      ]
     },
     "execution_count": 36,
     "metadata": {},
     "output_type": "execute_result"
    }
   ],
   "source": [
    "dist0 = y_cent + (-0.5) * h[0]\n",
    "mom0 = dist0 * a[0]\n",
    "mom0\n",
    "\n"
   ]
  },
  {
   "cell_type": "markdown",
   "id": "842a087a-0a06-4b04-afa3-1a4b2f265c20",
   "metadata": {},
   "source": [
    "Moment of area1 below centroid about the centroid"
   ]
  },
  {
   "cell_type": "code",
   "execution_count": 39,
   "id": "59f83f83-728c-4ce4-a09f-195e555e1f8c",
   "metadata": {},
   "outputs": [
    {
     "data": {
      "text/plain": [
       "6.190375514403291e-06"
      ]
     },
     "execution_count": 39,
     "metadata": {},
     "output_type": "execute_result"
    }
   ],
   "source": [
    "dist_below = h1_below_cent * 0.5\n",
    "area_below = (w[1] * h1_below_cent)\n",
    "mom_below = dist_below * area_below\n",
    "mom_below\n"
   ]
  },
  {
   "cell_type": "markdown",
   "id": "e994b93b-101b-45a7-b6c2-788f7706091f",
   "metadata": {},
   "source": [
    "Moment of area1 above centroid about the centroid"
   ]
  },
  {
   "cell_type": "code",
   "execution_count": 40,
   "id": "dc0d33d9-238d-4a0a-8b1b-bc3c35bf0aa7",
   "metadata": {},
   "outputs": [
    {
     "data": {
      "text/plain": [
       "3.234819958847737e-06"
      ]
     },
     "execution_count": 40,
     "metadata": {},
     "output_type": "execute_result"
    }
   ],
   "source": [
    "dist_above = h1_above_cent * 0.5\n",
    "area_above = (w[1] * h1_above_cent)\n",
    "mom_above = dist_above * area_above\n",
    "mom_above\n"
   ]
  },
  {
   "cell_type": "markdown",
   "id": "5e6fa47c-f33b-4ce8-9c8d-112f91139e74",
   "metadata": {},
   "source": [
    "Moment of the area 2 about the neutral axis"
   ]
  },
  {
   "cell_type": "code",
   "execution_count": 37,
   "id": "f0e86f92-3064-426b-a185-aace48996237",
   "metadata": {},
   "outputs": [
    {
     "data": {
      "text/plain": [
       "3.093333333333334e-05"
      ]
     },
     "execution_count": 37,
     "metadata": {},
     "output_type": "execute_result"
    }
   ],
   "source": [
    "dist2 = h[0] + h[1] + 0.5 * h[2] - y_cent\n",
    "mom2 = dist2 * a[2]\n",
    "mom2\n",
    "\n"
   ]
  },
  {
   "cell_type": "code",
   "execution_count": 41,
   "id": "ca005aa7-7a65-4ea5-9a88-ced432bd1831",
   "metadata": {},
   "outputs": [
    {
     "data": {
      "text/plain": [
       "3.4168153292181075e-05"
      ]
     },
     "execution_count": 41,
     "metadata": {},
     "output_type": "execute_result"
    }
   ],
   "source": [
    "mom0 + mom_below"
   ]
  },
  {
   "cell_type": "code",
   "execution_count": 42,
   "id": "d662f696-7123-414d-bef5-b12c4fbbdd4e",
   "metadata": {},
   "outputs": [
    {
     "data": {
      "text/plain": [
       "3.4168153292181075e-05"
      ]
     },
     "execution_count": 42,
     "metadata": {},
     "output_type": "execute_result"
    }
   ],
   "source": [
    "mom_above + mom2"
   ]
  },
  {
   "cell_type": "code",
   "execution_count": 13,
   "id": "1f60c0c9-5693-43bd-a8c0-4bf522ead6e7",
   "metadata": {},
   "outputs": [
    {
     "data": {
      "text/plain": [
       "array([0.      , 0.012   , 0.012001, 0.082   , 0.082001, 0.092   ])"
      ]
     },
     "execution_count": 13,
     "metadata": {},
     "output_type": "execute_result"
    }
   ],
   "source": [
    "y = np.array((\n",
    "    0, h[0], h[0]+1e-6, h[0] + h[1], h[0] + h[1] + 1e-6, h.sum()\n",
    "))\n",
    "y\n"
   ]
  },
  {
   "cell_type": "code",
   "execution_count": 14,
   "id": "e70e3f92-80e2-4c97-aa77-6a6103dcc714",
   "metadata": {},
   "outputs": [
    {
     "data": {
      "text/plain": [
       "array([0.05  , 0.05  , 0.0075, 0.0075, 0.09  , 0.09  ])"
      ]
     },
     "execution_count": 14,
     "metadata": {},
     "output_type": "execute_result"
    }
   ],
   "source": [
    "x = np.array((\n",
    "    w[0], w[0], w[1], w[1], w[2], w[2]\n",
    "))\n",
    "x\n",
    "\n"
   ]
  },
  {
   "cell_type": "code",
   "execution_count": 15,
   "id": "24b2ea4f-5448-434c-9dea-a831ba0ab201",
   "metadata": {},
   "outputs": [],
   "source": [
    "y_array = np.arange(0, h.sum(), 1e-5)\n",
    "width_array = np.interp(y_array, y, x)\n",
    "\n"
   ]
  },
  {
   "cell_type": "code",
   "execution_count": 18,
   "id": "cc963b94-9d85-43d2-aee0-b4e3edae2220",
   "metadata": {},
   "outputs": [
    {
     "data": {
      "text/plain": [
       "1e-05"
      ]
     },
     "execution_count": 18,
     "metadata": {},
     "output_type": "execute_result"
    }
   ],
   "source": [
    "dy = y_array[1] - y_array[0]\n",
    "dy\n",
    "\n"
   ]
  },
  {
   "cell_type": "code",
   "execution_count": 19,
   "id": "495e357f-36ea-4b93-8a24-3fd630d0b53b",
   "metadata": {},
   "outputs": [],
   "source": [
    "da = dy * width_array\n",
    "\n"
   ]
  },
  {
   "cell_type": "code",
   "execution_count": 20,
   "id": "1fae7c42-568b-403f-af33-ba7cd1c9fa33",
   "metadata": {},
   "outputs": [],
   "source": [
    "y_da = y_array * da\n",
    "\n"
   ]
  },
  {
   "cell_type": "code",
   "execution_count": 21,
   "id": "e9872ad5-e7cf-44fe-8773-3353dd98ac14",
   "metadata": {},
   "outputs": [
    {
     "data": {
      "text/plain": [
       "0.00010650232500000002"
      ]
     },
     "execution_count": 21,
     "metadata": {},
     "output_type": "execute_result"
    }
   ],
   "source": [
    "moment1 = y_da.sum()\n",
    "moment1\n",
    "\n"
   ]
  },
  {
   "cell_type": "code",
   "execution_count": 22,
   "id": "3e951c64-cdb3-4904-ae4b-eb69506808b3",
   "metadata": {},
   "outputs": [
    {
     "data": {
      "text/plain": [
       "0.05260413168033193"
      ]
     },
     "execution_count": 22,
     "metadata": {},
     "output_type": "execute_result"
    }
   ],
   "source": [
    "y_centroid = moment1 / da.sum()\n",
    "y_centroid\n",
    "\n"
   ]
  },
  {
   "cell_type": "code",
   "execution_count": 24,
   "id": "0bf6dc95-10a1-4223-9714-aea8808e7561",
   "metadata": {},
   "outputs": [
    {
     "data": {
      "text/plain": [
       "2.549794929770227e-05"
      ]
     },
     "execution_count": 24,
     "metadata": {},
     "output_type": "execute_result"
    }
   ],
   "source": [
    "y_cent - y_centroid\n",
    "\n"
   ]
  },
  {
   "cell_type": "code",
   "execution_count": 25,
   "id": "e46191b4-b0cc-42df-931a-b236364ccfa8",
   "metadata": {},
   "outputs": [
    {
     "data": {
      "text/plain": [
       "0.0009050000000000004"
      ]
     },
     "execution_count": 25,
     "metadata": {},
     "output_type": "execute_result"
    }
   ],
   "source": [
    "da[y_array<y_centroid].sum()"
   ]
  },
  {
   "cell_type": "code",
   "execution_count": 26,
   "id": "55e587c3-c211-4cf8-817e-137462400677",
   "metadata": {},
   "outputs": [
    {
     "data": {
      "text/plain": [
       "0.0011196000000000001"
      ]
     },
     "execution_count": 26,
     "metadata": {},
     "output_type": "execute_result"
    }
   ],
   "source": [
    "da[y_array>y_centroid].sum()"
   ]
  },
  {
   "cell_type": "code",
   "execution_count": null,
   "id": "5bc125dd-8e2d-4265-9a7b-394e3800572c",
   "metadata": {},
   "outputs": [],
   "source": []
  }
 ],
 "metadata": {
  "kernelspec": {
   "display_name": "Python 3 (ipykernel)",
   "language": "python",
   "name": "python3"
  },
  "language_info": {
   "codemirror_mode": {
    "name": "ipython",
    "version": 3
   },
   "file_extension": ".py",
   "mimetype": "text/x-python",
   "name": "python",
   "nbconvert_exporter": "python",
   "pygments_lexer": "ipython3",
   "version": "3.10.0"
  }
 },
 "nbformat": 4,
 "nbformat_minor": 5
}
